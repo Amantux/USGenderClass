{
 "cells": [
  {
   "cell_type": "code",
   "execution_count": null,
   "metadata": {},
   "outputs": [],
   "source": [
    "import os\n",
    "from urllib.request import urlopen, Request\n",
    "\n",
    "r = Request(url, headers={'User-Agent': 'Mozilla/5.0'})\n",
    "b2 = [z for z in url.split('/') if '.zip' in z][0] #gets just the '.zip' part of the url\n",
    "\n",
    "with open(b2, \"wb\") as target:\n",
    "    target.write(urlopen(r).read()) #saves to file to disk\n",
    "\n",
    "data = pd.read_csv(b2, compression='zip') #opens the saved zip file\n",
    "os.remove(b2) #removes the zip file\n"
   ]
  }
 ],
 "metadata": {
  "kernelspec": {
   "display_name": "Python 3",
   "language": "python",
   "name": "python3"
  },
  "language_info": {
   "codemirror_mode": {
    "name": "ipython",
    "version": 3
   },
   "file_extension": ".py",
   "mimetype": "text/x-python",
   "name": "python",
   "nbconvert_exporter": "python",
   "pygments_lexer": "ipython3",
   "version": "3.8.3"
  }
 },
 "nbformat": 4,
 "nbformat_minor": 4
}

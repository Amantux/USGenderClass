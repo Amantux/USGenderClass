{
 "cells": [
  {
   "cell_type": "code",
   "execution_count": 14,
   "metadata": {},
   "outputs": [
    {
     "name": "stdout",
     "output_type": "stream",
     "text": [
      "AK.TXT\n",
      "AL.TXT\n",
      "AR.TXT\n",
      "AZ.TXT\n",
      "CA.TXT\n",
      "CO.TXT\n",
      "CT.TXT\n",
      "DC.TXT\n",
      "DE.TXT\n",
      "FL.TXT\n",
      "GA.TXT\n",
      "HI.TXT\n",
      "IA.TXT\n",
      "ID.TXT\n",
      "IL.TXT\n",
      "IN.TXT\n",
      "KS.TXT\n",
      "KY.TXT\n",
      "LA.TXT\n",
      "MA.TXT\n",
      "MD.TXT\n",
      "ME.TXT\n",
      "MI.TXT\n",
      "MN.TXT\n",
      "MO.TXT\n",
      "MS.TXT\n",
      "MT.TXT\n",
      "NC.TXT\n",
      "ND.TXT\n",
      "NE.TXT\n",
      "NH.TXT\n",
      "NJ.TXT\n",
      "NM.TXT\n",
      "NV.TXT\n",
      "NY.TXT\n",
      "OH.TXT\n",
      "OK.TXT\n",
      "OR.TXT\n",
      "PA.TXT\n",
      "RI.TXT\n",
      "SC.TXT\n",
      "SD.TXT\n",
      "StateReadMe.pdf\n",
      "TN.TXT\n",
      "TX.TXT\n",
      "UT.TXT\n",
      "VA.TXT\n",
      "VT.TXT\n",
      "WA.TXT\n",
      "WI.TXT\n",
      "WV.TXT\n",
      "WY.TXT\n"
     ]
    }
   ],
   "source": [
    "import os\n",
    "from urllib.request import urlopen, Request\n",
    "from zipfile import ZipFile\n",
    "\n",
    "url = 'https://www.ssa.gov/oact/babynames/state/namesbystate.zip'\n",
    "r = Request(url, headers={'User-Agent': 'Mozilla/5.0'})\n",
    "Zip_Name = [z for z in url.split('/') if '.zip' in z][0] #gets just the '.zip' part of the url\n",
    "\n",
    "with open(Zip_Name, \"wb\") as target:\n",
    "    target.write(urlopen(r).read()) #saves to file to disk\n",
    "\n",
    "path = './'+Zip_Name\n",
    "with ZipFile(path) as myzip:\n",
    "    for file in myzip.namelist():\n",
    "        print(file)\n",
    "os.remove(Zip_Name) #removes the zip file\n",
    "#https://www.ssa.gov/oact/babynames/limits.html"
   ]
  },
  {
   "cell_type": "code",
   "execution_count": null,
   "metadata": {},
   "outputs": [],
   "source": []
  }
 ],
 "metadata": {
  "kernelspec": {
   "display_name": "Python 3",
   "language": "python",
   "name": "python3"
  },
  "language_info": {
   "codemirror_mode": {
    "name": "ipython",
    "version": 3
   },
   "file_extension": ".py",
   "mimetype": "text/x-python",
   "name": "python",
   "nbconvert_exporter": "python",
   "pygments_lexer": "ipython3",
   "version": "3.8.3"
  }
 },
 "nbformat": 4,
 "nbformat_minor": 4
}

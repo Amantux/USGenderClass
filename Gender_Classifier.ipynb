{
 "cells": [
  {
   "cell_type": "code",
   "execution_count": 1,
   "metadata": {},
   "outputs": [],
   "source": [
    "from sklearn.datasets import load_breast_cancer\n",
    "from sklearn.model_selection import train_test_split\n",
    "from sklearn.naive_bayes import GaussianNB\n",
    "from sklearn.metrics import accuracy_score\n",
    "from sklearn import svm\n",
    "import pandas as pd\n",
    "import numpy as np\n",
    "\n",
    "\n",
    "#For File Pulling\n",
    "import os\n",
    "from urllib.request import urlopen, Request\n",
    "from zipfile import ZipFile\n",
    "import shutil\n"
   ]
  },
  {
   "cell_type": "code",
   "execution_count": null,
   "metadata": {},
   "outputs": [
    {
     "name": "stdout",
     "output_type": "stream",
     "text": [
      "AK.TXT\n",
      "AL.TXT\n",
      "AR.TXT\n",
      "AZ.TXT\n",
      "CA.TXT\n",
      "CO.TXT\n",
      "CT.TXT\n",
      "DC.TXT\n",
      "DE.TXT\n",
      "FL.TXT\n",
      "GA.TXT\n",
      "HI.TXT\n",
      "IA.TXT\n",
      "ID.TXT\n",
      "IL.TXT\n",
      "IN.TXT\n",
      "KS.TXT\n",
      "KY.TXT\n",
      "LA.TXT\n",
      "MA.TXT\n",
      "MD.TXT\n",
      "ME.TXT\n",
      "MI.TXT\n",
      "MN.TXT\n",
      "MO.TXT\n",
      "MS.TXT\n",
      "MT.TXT\n",
      "NC.TXT\n",
      "ND.TXT\n",
      "NE.TXT\n",
      "NH.TXT\n",
      "NJ.TXT\n",
      "NM.TXT\n",
      "NV.TXT\n",
      "NY.TXT\n",
      "OH.TXT\n",
      "OK.TXT\n",
      "OR.TXT\n",
      "PA.TXT\n",
      "RI.TXT\n",
      "SC.TXT\n",
      "SD.TXT\n",
      "TN.TXT\n",
      "TX.TXT\n",
      "UT.TXT\n",
      "VA.TXT\n",
      "VT.TXT\n",
      "WA.TXT\n",
      "WI.TXT\n"
     ]
    }
   ],
   "source": [
    "url = 'https://www.ssa.gov/oact/babynames/state/namesbystate.zip'\n",
    "r = Request(url, headers={'User-Agent': 'Mozilla/5.0'})\n",
    "Zip_Name = [z for z in url.split('/') if '.zip' in z][0] #gets just the '.zip' part of the url\n",
    "folder_name = 'State_Folder'\n",
    "with open(Zip_Name, \"wb\") as target:\n",
    "    target.write(urlopen(r).read()) #saves to file to disk\n",
    "\n",
    "path = './'+Zip_Name\n",
    "with ZipFile(path) as myzip:\n",
    "    myzip.extractall(folder_name)\n",
    "    \n",
    "os.remove(Zip_Name) #removes the zip file\n",
    "Dataset = pd.DataFrame()\n",
    "for file in os.listdir(folder_name):\n",
    "    filename = os.fsdecode(file)\n",
    "    if filename.endswith(\".txt\") or filename.endswith(\".csv\") or filename.endswith(\".TXT\") or filename.endswith(\".CSV\"):\n",
    "        print(filename)\n",
    "        data = pd.read_csv('./'+folder_name+'/'+filename,header=0, names=['State','Gender','Year','FirstName','Count']  )\n",
    "        Dataset = pd.concat([Dataset, data], ignore_index=True)\n",
    "print(Dataset)\n",
    "data = Dataset\n",
    "try:\n",
    "    shutil.rmtree(folder_name)\n",
    "    print(\"llamas\")\n",
    "except OSError as e:\n",
    "    print (\"Error: %s - %s.\" % (e.filename, e.strerror))"
   ]
  },
  {
   "cell_type": "code",
   "execution_count": null,
   "metadata": {},
   "outputs": [],
   "source": [
    "# Load dataset\n",
    "#data = pd.read_csv('Ma.txt',header=0, names=['State','Gender','Year','FirstName','Count']  )"
   ]
  },
  {
   "cell_type": "code",
   "execution_count": null,
   "metadata": {},
   "outputs": [],
   "source": [
    "\n",
    "data.head()"
   ]
  },
  {
   "cell_type": "code",
   "execution_count": null,
   "metadata": {},
   "outputs": [],
   "source": [
    "from sklearn.model_selection import train_test_split\n",
    "from sklearn.preprocessing import MinMaxScaler, OneHotEncoder\n",
    "\n",
    "enc = OneHotEncoder()\n",
    "scaler = MinMaxScaler()"
   ]
  },
  {
   "cell_type": "code",
   "execution_count": null,
   "metadata": {},
   "outputs": [],
   "source": [
    "from sklearn.model_selection import train_test_split\n",
    "from sklearn.preprocessing import MinMaxScaler, OneHotEncoder\n",
    "from sklearn.preprocessing import LabelEncoder\n",
    "enc = OneHotEncoder(handle_unknown='ignore')\n",
    "enc2 = OneHotEncoder(handle_unknown='ignore')\n"
   ]
  },
  {
   "cell_type": "code",
   "execution_count": null,
   "metadata": {},
   "outputs": [],
   "source": [
    "# Organize our data\n",
    "\n",
    "data['Sex'] = data['Gender'].map({'F': '1', 'M': '0'})\n",
    "data['Frequency'] = (scaler.fit_transform(data[['Count']]))\n",
    "\n",
    "label_names = 'Gender'\n",
    "labels = data['Gender']\n",
    "#feature_names = [data.columns.difference([label_names])]\n",
    "#features = data[data.columns.difference([label_names])]\n",
    "name_encoder = LabelEncoder()\n",
    "feature_name = 'FirstName'\n",
    "data\n",
    "feature_name = pd.DataFrame()\n",
    "feature_name['FirstName'] = name_encoder.fit_transform(data['FirstName'])\n",
    "feature_name['Year'] = data['Year']\n",
    "feature_name"
   ]
  },
  {
   "cell_type": "code",
   "execution_count": null,
   "metadata": {},
   "outputs": [],
   "source": [
    "# Look at our data\n",
    "print(label_names)\n",
    "print('Class label = ', labels[0])\n",
    "#print(feature_names)\n",
    "feature_name.head()\n",
    "\n",
    "feature_name"
   ]
  },
  {
   "cell_type": "code",
   "execution_count": null,
   "metadata": {},
   "outputs": [],
   "source": [
    "# Split our data\n",
    "X_train, X_test, y_train, y_test = train_test_split(feature_name,\n",
    "                                                          labels,\n",
    "                                                          test_size=0.33,\n",
    "                                                          random_state=42)\n"
   ]
  },
  {
   "cell_type": "code",
   "execution_count": null,
   "metadata": {},
   "outputs": [],
   "source": [
    "# Initialize our classifier\n",
    "#clf = svm.SVC()\n",
    "\n",
    "# Train our classifier\n",
    "#model = clf.fit(train, train_labels)"
   ]
  },
  {
   "cell_type": "code",
   "execution_count": null,
   "metadata": {},
   "outputs": [],
   "source": [
    "# Make predictions\n",
    "#preds = svm.predict(test)\n",
    "#print(preds)\n",
    "\n",
    "# Evaluate accuracy\n",
    "#print(accuracy_score(test_labels, preds))"
   ]
  },
  {
   "cell_type": "code",
   "execution_count": null,
   "metadata": {},
   "outputs": [],
   "source": [
    "from sklearn.linear_model import LogisticRegression\n",
    "logreg = LogisticRegression()\n",
    "logreg.fit(X_train, y_train)\n",
    "print('Accuracy of Logistic regression classifier on training set: {:.2f}'\n",
    "     .format(logreg.score(X_train, y_train)))\n",
    "print('Accuracy of Logistic regression classifier on test set: {:.2f}'\n",
    "     .format(logreg.score(X_test, y_test)))"
   ]
  },
  {
   "cell_type": "code",
   "execution_count": null,
   "metadata": {},
   "outputs": [],
   "source": [
    "from sklearn.tree import DecisionTreeClassifier\n",
    "clf = DecisionTreeClassifier().fit(X_train, y_train)\n",
    "print('Accuracy of Decision Tree classifier on training set: {:.2f}'\n",
    "     .format(clf.score(X_train, y_train)))\n",
    "print('Accuracy of Decision Tree classifier on test set: {:.2f}'\n",
    "     .format(clf.score(X_test, y_test)))"
   ]
  },
  {
   "cell_type": "code",
   "execution_count": null,
   "metadata": {},
   "outputs": [],
   "source": [
    "from sklearn.neighbors import KNeighborsClassifier\n",
    "knn = KNeighborsClassifier()\n",
    "\n",
    "knn.fit(X_train, y_train)\n",
    "print('Accuracy of K-NN classifier on training set: {:.2f}'\n",
    "     .format(knn.score(X_train, y_train)))\n",
    "print('Accuracy of K-NN classifier on test set: {:.2f}'\n",
    "     .format(knn.score(X_test, y_test)))"
   ]
  },
  {
   "cell_type": "code",
   "execution_count": null,
   "metadata": {},
   "outputs": [],
   "source": [
    "from fairlearn.metrics import MetricFrame\n",
    "from sklearn.metrics import accuracy_score"
   ]
  },
  {
   "cell_type": "code",
   "execution_count": null,
   "metadata": {},
   "outputs": [],
   "source": [
    "y_pred = clf.predict(feature_name)\n",
    "gm = MetricFrame(accuracy_score, labels, y_pred, sensitive_features=feature_name['Year'])"
   ]
  },
  {
   "cell_type": "code",
   "execution_count": null,
   "metadata": {},
   "outputs": [],
   "source": [
    "print(gm.overall)\n",
    "print(gm.by_group)"
   ]
  },
  {
   "cell_type": "code",
   "execution_count": null,
   "metadata": {},
   "outputs": [],
   "source": [
    "y_pred = clf.predict(feature_name)\n",
    "gm = MetricFrame(accuracy_score, labels, y_pred, sensitive_features=feature_name['State'])"
   ]
  },
  {
   "cell_type": "code",
   "execution_count": null,
   "metadata": {},
   "outputs": [],
   "source": [
    "knn.predict([\"Alex\",'1994'])"
   ]
  },
  {
   "cell_type": "code",
   "execution_count": null,
   "metadata": {},
   "outputs": [],
   "source": []
  }
 ],
 "metadata": {
  "kernelspec": {
   "display_name": "Python 3",
   "language": "python",
   "name": "python3"
  },
  "language_info": {
   "codemirror_mode": {
    "name": "ipython",
    "version": 3
   },
   "file_extension": ".py",
   "mimetype": "text/x-python",
   "name": "python",
   "nbconvert_exporter": "python",
   "pygments_lexer": "ipython3",
   "version": "3.8.3"
  }
 },
 "nbformat": 4,
 "nbformat_minor": 4
}
